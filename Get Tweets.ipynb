{
 "cells": [
  {
   "cell_type": "markdown",
   "metadata": {},
   "source": [
    "## Import Libraries"
   ]
  },
  {
   "cell_type": "code",
   "execution_count": 1,
   "metadata": {},
   "outputs": [],
   "source": [
    "import tweepy\n",
    "import pandas as pd\n",
    "import json\n",
    "\n",
    "import warnings\n",
    "warnings.filterwarnings('ignore')"
   ]
  },
  {
   "cell_type": "markdown",
   "metadata": {},
   "source": [
    "## Connect to Twitter API"
   ]
  },
  {
   "cell_type": "code",
   "execution_count": 2,
   "metadata": {},
   "outputs": [],
   "source": [
    "def get_keys(path):\n",
    "    with open(path) as f:\n",
    "        return json.load(f)"
   ]
  },
  {
   "cell_type": "code",
   "execution_count": 3,
   "metadata": {},
   "outputs": [],
   "source": [
    "keys = get_keys(\"/Users/kryst/.secret/twitter_api.json\")\n",
    "\n",
    "api_key = keys['api_key']\n",
    "api_secret = keys['api_secret']\n",
    "acc_token = keys['acc_token']\n",
    "acc_secret = keys['acc_secret']"
   ]
  },
  {
   "cell_type": "code",
   "execution_count": 4,
   "metadata": {},
   "outputs": [],
   "source": [
    "def twitter():\n",
    "    ''' Push the keys and tokens to OAuth to get the\n",
    "    access to the API\n",
    "    '''\n",
    "    auth = tweepy.OAuthHandler(api_key, api_secret)\n",
    "    auth.set_access_token(acc_token, acc_secret)\n",
    "\n",
    "    api = tweepy.API(auth, wait_on_rate_limit=True, wait_on_rate_limit_notify=True)\n",
    "    try:\n",
    "        api.verify_credentials()\n",
    "        print(\"Authentication OK\")\n",
    "    except:\n",
    "        print(\"Error during authentication\")\n",
    "    return api "
   ]
  },
  {
   "cell_type": "code",
   "execution_count": 5,
   "metadata": {},
   "outputs": [
    {
     "name": "stdout",
     "output_type": "stream",
     "text": [
      "Authentication OK\n"
     ]
    }
   ],
   "source": [
    "twitter = twitter()"
   ]
  },
  {
   "cell_type": "code",
   "execution_count": 6,
   "metadata": {},
   "outputs": [],
   "source": [
    "hotels = ['stregis','jwmarriott','ritzcarlton','whotels', 'westin','sheraton','marriott','renaissancehotels','residenceinn','fairfieldinn','springhillsuites','courtyardbymarriott']\n",
    "otas = ['expedia','priceline','@bookingcom','#booking.com']"
   ]
  },
  {
   "cell_type": "markdown",
   "metadata": {},
   "source": [
    "### Keyword Searches"
   ]
  },
  {
   "cell_type": "code",
   "execution_count": 7,
   "metadata": {},
   "outputs": [
    {
     "name": "stderr",
     "output_type": "stream",
     "text": [
      "Rate limit reached. Sleeping for: 411\n",
      "Rate limit reached. Sleeping for: 845\n",
      "Rate limit reached. Sleeping for: 849\n",
      "Rate limit reached. Sleeping for: 850\n",
      "Rate limit reached. Sleeping for: 850\n",
      "Rate limit reached. Sleeping for: 850\n"
     ]
    }
   ],
   "source": [
    "tweets = []\n",
    "\n",
    "for hotel in hotels:\n",
    "    results = tweepy.Cursor(twitter.search, q=hotel + \"-filter:retweets\", lang=\"en\", tweet_mode='extended', since='2019-11-01')\n",
    "    \n",
    "    for tweet in results.items(10000):\n",
    "        \n",
    "        hotel_terms = {'Hotel':hotel.capitalize(),\n",
    "                'Created At': tweet.created_at,\n",
    "                 'Text': tweet.full_text\n",
    "                }\n",
    "        tweets.append(hotel_terms)"
   ]
  },
  {
   "cell_type": "code",
   "execution_count": 8,
   "metadata": {},
   "outputs": [],
   "source": [
    "hotel_tweets = pd.DataFrame(tweets)\n",
    "hotel_tweets.to_csv('hotel_tweets.csv',index=False)"
   ]
  },
  {
   "cell_type": "code",
   "execution_count": 10,
   "metadata": {},
   "outputs": [
    {
     "name": "stderr",
     "output_type": "stream",
     "text": [
      "Rate limit reached. Sleeping for: 736\n",
      "Rate limit reached. Sleeping for: 858\n"
     ]
    }
   ],
   "source": [
    "ota_tweets = []\n",
    "\n",
    "for ota in otas:\n",
    "    ota_results = tweepy.Cursor(twitter.search, q=ota + \"-filter:retweets\", lang=\"en\", tweet_mode='extended', since='2019-11-01')\n",
    "    \n",
    "    for tweet in ota_results.items(10000):\n",
    "        \n",
    "        ota_terms = {'OTA':ota.capitalize(),\n",
    "                'Created At': tweet.created_at,\n",
    "                 'Text': tweet.full_text\n",
    "                }\n",
    "        ota_tweets.append(ota_terms)"
   ]
  },
  {
   "cell_type": "code",
   "execution_count": 11,
   "metadata": {},
   "outputs": [],
   "source": [
    "ota_tweets = pd.DataFrame(ota_tweets)\n",
    "ota_tweets.to_csv('ota_tweets.csv',index=False)"
   ]
  }
 ],
 "metadata": {
  "kernelspec": {
   "display_name": "Python 3",
   "language": "python",
   "name": "python3"
  },
  "language_info": {
   "codemirror_mode": {
    "name": "ipython",
    "version": 3
   },
   "file_extension": ".py",
   "mimetype": "text/x-python",
   "name": "python",
   "nbconvert_exporter": "python",
   "pygments_lexer": "ipython3",
   "version": "3.6.6"
  }
 },
 "nbformat": 4,
 "nbformat_minor": 2
}
