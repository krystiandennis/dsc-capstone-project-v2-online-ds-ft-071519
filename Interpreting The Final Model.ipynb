{
 "cells": [
  {
   "cell_type": "markdown",
   "metadata": {},
   "source": [
    "# Final Model Interpretation"
   ]
  },
  {
   "cell_type": "markdown",
   "metadata": {},
   "source": [
    "## Import Libraries"
   ]
  },
  {
   "cell_type": "code",
   "execution_count": 1,
   "metadata": {},
   "outputs": [
    {
     "name": "stdout",
     "output_type": "stream",
     "text": [
      "All Libraries Imported\n"
     ]
    }
   ],
   "source": [
    "import pandas as pd\n",
    "import numpy as np\n",
    "\n",
    "import joblib\n",
    "import pickle\n",
    "\n",
    "import warnings\n",
    "warnings.filterwarnings(\"ignore\")\n",
    "\n",
    "print('All Libraries Imported')"
   ]
  },
  {
   "cell_type": "markdown",
   "metadata": {},
   "source": [
    "## Import Datasets"
   ]
  },
  {
   "cell_type": "code",
   "execution_count": 2,
   "metadata": {},
   "outputs": [
    {
     "data": {
      "text/html": [
       "<div>\n",
       "<style scoped>\n",
       "    .dataframe tbody tr th:only-of-type {\n",
       "        vertical-align: middle;\n",
       "    }\n",
       "\n",
       "    .dataframe tbody tr th {\n",
       "        vertical-align: top;\n",
       "    }\n",
       "\n",
       "    .dataframe thead th {\n",
       "        text-align: right;\n",
       "    }\n",
       "</style>\n",
       "<table border=\"1\" class=\"dataframe\">\n",
       "  <thead>\n",
       "    <tr style=\"text-align: right;\">\n",
       "      <th></th>\n",
       "      <th>Class</th>\n",
       "      <th>Created At</th>\n",
       "      <th>Lemmatized</th>\n",
       "      <th>Sentiment</th>\n",
       "      <th>Sentiment_TextBlob</th>\n",
       "      <th>Sentiment_VADER</th>\n",
       "      <th>Subjectivity</th>\n",
       "      <th>Tweet_Strings</th>\n",
       "      <th>Tweets</th>\n",
       "      <th>cleaned_tweets</th>\n",
       "    </tr>\n",
       "  </thead>\n",
       "  <tbody>\n",
       "    <tr>\n",
       "      <th>0</th>\n",
       "      <td>Luxury</td>\n",
       "      <td>2019-12-13 14:47:03</td>\n",
       "      <td>[polo, anyone, world, snow, polo, championship...</td>\n",
       "      <td>1</td>\n",
       "      <td>0.000000</td>\n",
       "      <td>0.4404</td>\n",
       "      <td>0.0</td>\n",
       "      <td>polo anyone world snow polo championship held ...</td>\n",
       "      <td>Polo anyone?\\r\\n#StRegis World Snow #Polo Cham...</td>\n",
       "      <td>[polo, anyone, world, snow, polo, championship...</td>\n",
       "    </tr>\n",
       "    <tr>\n",
       "      <th>1</th>\n",
       "      <td>Luxury</td>\n",
       "      <td>2019-12-13 13:05:34</td>\n",
       "      <td>[fantastic, night, celebrating, th, anniversary]</td>\n",
       "      <td>1</td>\n",
       "      <td>0.400000</td>\n",
       "      <td>0.8074</td>\n",
       "      <td>0.9</td>\n",
       "      <td>fantastic night celebrating th anniversary</td>\n",
       "      <td>Fantastic night at the @TheStRegisMC celebrati...</td>\n",
       "      <td>[fantastic, night, celebrating, th, anniversary]</td>\n",
       "    </tr>\n",
       "    <tr>\n",
       "      <th>2</th>\n",
       "      <td>Luxury</td>\n",
       "      <td>2019-12-13 09:16:46</td>\n",
       "      <td>[exceptional, tropical, sunshine, ensures, ult...</td>\n",
       "      <td>1</td>\n",
       "      <td>0.413333</td>\n",
       "      <td>0.8689</td>\n",
       "      <td>0.8</td>\n",
       "      <td>exceptional tropical sunshine ensures ultimate...</td>\n",
       "      <td>It's the exceptional tropical sunshine that en...</td>\n",
       "      <td>[exceptional, tropical, sunshine, ensures, ult...</td>\n",
       "    </tr>\n",
       "    <tr>\n",
       "      <th>3</th>\n",
       "      <td>Luxury</td>\n",
       "      <td>2019-12-13 04:05:43</td>\n",
       "      <td>[birthday, sagittarius, aspen, ilovemylife, ha...</td>\n",
       "      <td>1</td>\n",
       "      <td>0.000000</td>\n",
       "      <td>0.0000</td>\n",
       "      <td>0.0</td>\n",
       "      <td>birthday sagittarius aspen ilovemylife happybi...</td>\n",
       "      <td>This is 38. 🎂🏹👀😬🍺🍰💩 @stregisaspen #birthday #🎂...</td>\n",
       "      <td>[birthday, sagittarius, aspen, ilovemylife, ha...</td>\n",
       "    </tr>\n",
       "    <tr>\n",
       "      <th>4</th>\n",
       "      <td>Luxury</td>\n",
       "      <td>2019-12-13 00:14:04</td>\n",
       "      <td>[stunning, overwater, bar, see, today, called,...</td>\n",
       "      <td>1</td>\n",
       "      <td>0.341667</td>\n",
       "      <td>0.9359</td>\n",
       "      <td>0.5</td>\n",
       "      <td>stunning overwater bar see today called whale ...</td>\n",
       "      <td>Stunning overwater bar you will see today! It'...</td>\n",
       "      <td>[stunning, overwater, bar, see, today, called,...</td>\n",
       "    </tr>\n",
       "  </tbody>\n",
       "</table>\n",
       "</div>"
      ],
      "text/plain": [
       "    Class           Created At  \\\n",
       "0  Luxury  2019-12-13 14:47:03   \n",
       "1  Luxury  2019-12-13 13:05:34   \n",
       "2  Luxury  2019-12-13 09:16:46   \n",
       "3  Luxury  2019-12-13 04:05:43   \n",
       "4  Luxury  2019-12-13 00:14:04   \n",
       "\n",
       "                                          Lemmatized  Sentiment  \\\n",
       "0  [polo, anyone, world, snow, polo, championship...          1   \n",
       "1   [fantastic, night, celebrating, th, anniversary]          1   \n",
       "2  [exceptional, tropical, sunshine, ensures, ult...          1   \n",
       "3  [birthday, sagittarius, aspen, ilovemylife, ha...          1   \n",
       "4  [stunning, overwater, bar, see, today, called,...          1   \n",
       "\n",
       "   Sentiment_TextBlob  Sentiment_VADER  Subjectivity  \\\n",
       "0            0.000000           0.4404           0.0   \n",
       "1            0.400000           0.8074           0.9   \n",
       "2            0.413333           0.8689           0.8   \n",
       "3            0.000000           0.0000           0.0   \n",
       "4            0.341667           0.9359           0.5   \n",
       "\n",
       "                                       Tweet_Strings  \\\n",
       "0  polo anyone world snow polo championship held ...   \n",
       "1         fantastic night celebrating th anniversary   \n",
       "2  exceptional tropical sunshine ensures ultimate...   \n",
       "3  birthday sagittarius aspen ilovemylife happybi...   \n",
       "4  stunning overwater bar see today called whale ...   \n",
       "\n",
       "                                              Tweets  \\\n",
       "0  Polo anyone?\\r\\n#StRegis World Snow #Polo Cham...   \n",
       "1  Fantastic night at the @TheStRegisMC celebrati...   \n",
       "2  It's the exceptional tropical sunshine that en...   \n",
       "3  This is 38. 🎂🏹👀😬🍺🍰💩 @stregisaspen #birthday #🎂...   \n",
       "4  Stunning overwater bar you will see today! It'...   \n",
       "\n",
       "                                      cleaned_tweets  \n",
       "0  [polo, anyone, world, snow, polo, championship...  \n",
       "1   [fantastic, night, celebrating, th, anniversary]  \n",
       "2  [exceptional, tropical, sunshine, ensures, ult...  \n",
       "3  [birthday, sagittarius, aspen, ilovemylife, ha...  \n",
       "4  [stunning, overwater, bar, see, today, called,...  "
      ]
     },
     "execution_count": 2,
     "metadata": {},
     "output_type": "execute_result"
    }
   ],
   "source": [
    "all_data = pd.read_pickle('all_data.pkl')\n",
    "all_data.reset_index(inplace=True)\n",
    "all_data.drop(['index'], axis=1, inplace=True)\n",
    "all_data.head()"
   ]
  },
  {
   "cell_type": "code",
   "execution_count": 3,
   "metadata": {},
   "outputs": [],
   "source": [
    "X_test = pickle.load(open(\"X_test.pkl\", \"rb\"))\n",
    "y_test = pickle.load(open(\"y_test.pkl\", \"rb\"))\n",
    "tf_idf_X_test = pickle.load(open(\"tf_idf_X_test.pkl\", \"rb\"))"
   ]
  },
  {
   "cell_type": "markdown",
   "metadata": {},
   "source": [
    "## Load Logistic Regression Model"
   ]
  },
  {
   "cell_type": "code",
   "execution_count": 4,
   "metadata": {},
   "outputs": [],
   "source": [
    "model = joblib.load('log_reg.pkl')"
   ]
  },
  {
   "cell_type": "markdown",
   "metadata": {},
   "source": [
    "## Select Tweets"
   ]
  },
  {
   "cell_type": "markdown",
   "metadata": {},
   "source": [
    "A group of tweets are selected from the test data to test the classification ability of our model. For comparison, the original tweets are gathered, along with their classes, to determine if the test tweets have been correctly classified. "
   ]
  },
  {
   "cell_type": "markdown",
   "metadata": {},
   "source": [
    "X_test[500:510]"
   ]
  },
  {
   "cell_type": "code",
   "execution_count": 15,
   "metadata": {},
   "outputs": [],
   "source": [
    "test_tweets = tf_idf_X_test[500:510]"
   ]
  },
  {
   "cell_type": "code",
   "execution_count": 18,
   "metadata": {},
   "outputs": [],
   "source": [
    "test = all_data.loc[[13268,16883,8299,11127,18388,12794,11292,7068,5426,503],['Tweets']]"
   ]
  },
  {
   "cell_type": "code",
   "execution_count": 19,
   "metadata": {},
   "outputs": [
    {
     "data": {
      "text/html": [
       "<div>\n",
       "<style scoped>\n",
       "    .dataframe tbody tr th:only-of-type {\n",
       "        vertical-align: middle;\n",
       "    }\n",
       "\n",
       "    .dataframe tbody tr th {\n",
       "        vertical-align: top;\n",
       "    }\n",
       "\n",
       "    .dataframe thead th {\n",
       "        text-align: right;\n",
       "    }\n",
       "</style>\n",
       "<table border=\"1\" class=\"dataframe\">\n",
       "  <thead>\n",
       "    <tr style=\"text-align: right;\">\n",
       "      <th></th>\n",
       "      <th>Tweets</th>\n",
       "    </tr>\n",
       "  </thead>\n",
       "  <tbody>\n",
       "    <tr>\n",
       "      <th>13268</th>\n",
       "      <td>Are you part of Toronto's #Tech community? The...</td>\n",
       "    </tr>\n",
       "    <tr>\n",
       "      <th>16883</th>\n",
       "      <td>@Expedia Thanks for making the situation right!</td>\n",
       "    </tr>\n",
       "    <tr>\n",
       "      <th>8299</th>\n",
       "      <td>God provided pink clouds with the sunset tonig...</td>\n",
       "    </tr>\n",
       "    <tr>\n",
       "      <th>11127</th>\n",
       "      <td>Entries are now open for Feis Na Blian Nua, wh...</td>\n",
       "    </tr>\n",
       "    <tr>\n",
       "      <th>18388</th>\n",
       "      <td>@bookingcom your team member also cancelled my...</td>\n",
       "    </tr>\n",
       "    <tr>\n",
       "      <th>12794</th>\n",
       "      <td>Bellperson - Newport Beach Marriott Hotel &amp;amp...</td>\n",
       "    </tr>\n",
       "    <tr>\n",
       "      <th>11292</th>\n",
       "      <td>New day new Marriott!! It's December 09, 2019 ...</td>\n",
       "    </tr>\n",
       "    <tr>\n",
       "      <th>7068</th>\n",
       "      <td>@lifefoodtravel @Marriott @MarriottBonvoy Actu...</td>\n",
       "    </tr>\n",
       "    <tr>\n",
       "      <th>5426</th>\n",
       "      <td>31st December: JW New Year’s Eve Countdown Buf...</td>\n",
       "    </tr>\n",
       "    <tr>\n",
       "      <th>503</th>\n",
       "      <td>We are in a #festive mood all December, taste ...</td>\n",
       "    </tr>\n",
       "  </tbody>\n",
       "</table>\n",
       "</div>"
      ],
      "text/plain": [
       "                                                  Tweets\n",
       "13268  Are you part of Toronto's #Tech community? The...\n",
       "16883    @Expedia Thanks for making the situation right!\n",
       "8299   God provided pink clouds with the sunset tonig...\n",
       "11127  Entries are now open for Feis Na Blian Nua, wh...\n",
       "18388  @bookingcom your team member also cancelled my...\n",
       "12794  Bellperson - Newport Beach Marriott Hotel &amp...\n",
       "11292  New day new Marriott!! It's December 09, 2019 ...\n",
       "7068   @lifefoodtravel @Marriott @MarriottBonvoy Actu...\n",
       "5426   31st December: JW New Year’s Eve Countdown Buf...\n",
       "503    We are in a #festive mood all December, taste ..."
      ]
     },
     "execution_count": 19,
     "metadata": {},
     "output_type": "execute_result"
    }
   ],
   "source": [
    "test"
   ]
  },
  {
   "cell_type": "markdown",
   "metadata": {},
   "source": [
    "## Run Model"
   ]
  },
  {
   "cell_type": "code",
   "execution_count": 20,
   "metadata": {},
   "outputs": [],
   "source": [
    "predictions = model.predict(test_tweets)"
   ]
  },
  {
   "cell_type": "code",
   "execution_count": 22,
   "metadata": {},
   "outputs": [],
   "source": [
    "outcome = pd.DataFrame({'Tweet': test['Tweets'], 'Category': y_test[500:510], \n",
    "                   'Predicted Category': predictions})"
   ]
  },
  {
   "cell_type": "code",
   "execution_count": 23,
   "metadata": {},
   "outputs": [
    {
     "data": {
      "text/html": [
       "<div>\n",
       "<style scoped>\n",
       "    .dataframe tbody tr th:only-of-type {\n",
       "        vertical-align: middle;\n",
       "    }\n",
       "\n",
       "    .dataframe tbody tr th {\n",
       "        vertical-align: top;\n",
       "    }\n",
       "\n",
       "    .dataframe thead th {\n",
       "        text-align: right;\n",
       "    }\n",
       "</style>\n",
       "<table border=\"1\" class=\"dataframe\">\n",
       "  <thead>\n",
       "    <tr style=\"text-align: right;\">\n",
       "      <th></th>\n",
       "      <th>Tweet</th>\n",
       "      <th>Category</th>\n",
       "      <th>Predicted Category</th>\n",
       "    </tr>\n",
       "  </thead>\n",
       "  <tbody>\n",
       "    <tr>\n",
       "      <th>13268</th>\n",
       "      <td>Are you part of Toronto's #Tech community? The...</td>\n",
       "      <td>Premium</td>\n",
       "      <td>Premium</td>\n",
       "    </tr>\n",
       "    <tr>\n",
       "      <th>16883</th>\n",
       "      <td>@Expedia Thanks for making the situation right!</td>\n",
       "      <td>Expedia</td>\n",
       "      <td>Premium</td>\n",
       "    </tr>\n",
       "    <tr>\n",
       "      <th>8299</th>\n",
       "      <td>God provided pink clouds with the sunset tonig...</td>\n",
       "      <td>Premium</td>\n",
       "      <td>Premium</td>\n",
       "    </tr>\n",
       "    <tr>\n",
       "      <th>11127</th>\n",
       "      <td>Entries are now open for Feis Na Blian Nua, wh...</td>\n",
       "      <td>Premium</td>\n",
       "      <td>Premium</td>\n",
       "    </tr>\n",
       "    <tr>\n",
       "      <th>18388</th>\n",
       "      <td>@bookingcom your team member also cancelled my...</td>\n",
       "      <td>Expedia</td>\n",
       "      <td>Expedia</td>\n",
       "    </tr>\n",
       "    <tr>\n",
       "      <th>12794</th>\n",
       "      <td>Bellperson - Newport Beach Marriott Hotel &amp;amp...</td>\n",
       "      <td>Premium</td>\n",
       "      <td>Premium</td>\n",
       "    </tr>\n",
       "    <tr>\n",
       "      <th>11292</th>\n",
       "      <td>New day new Marriott!! It's December 09, 2019 ...</td>\n",
       "      <td>Premium</td>\n",
       "      <td>Premium</td>\n",
       "    </tr>\n",
       "    <tr>\n",
       "      <th>7068</th>\n",
       "      <td>@lifefoodtravel @Marriott @MarriottBonvoy Actu...</td>\n",
       "      <td>Premium</td>\n",
       "      <td>Premium</td>\n",
       "    </tr>\n",
       "    <tr>\n",
       "      <th>5426</th>\n",
       "      <td>31st December: JW New Year’s Eve Countdown Buf...</td>\n",
       "      <td>Premium</td>\n",
       "      <td>Premium</td>\n",
       "    </tr>\n",
       "    <tr>\n",
       "      <th>503</th>\n",
       "      <td>We are in a #festive mood all December, taste ...</td>\n",
       "      <td>Luxury</td>\n",
       "      <td>Premium</td>\n",
       "    </tr>\n",
       "  </tbody>\n",
       "</table>\n",
       "</div>"
      ],
      "text/plain": [
       "                                                   Tweet Category  \\\n",
       "13268  Are you part of Toronto's #Tech community? The...  Premium   \n",
       "16883    @Expedia Thanks for making the situation right!  Expedia   \n",
       "8299   God provided pink clouds with the sunset tonig...  Premium   \n",
       "11127  Entries are now open for Feis Na Blian Nua, wh...  Premium   \n",
       "18388  @bookingcom your team member also cancelled my...  Expedia   \n",
       "12794  Bellperson - Newport Beach Marriott Hotel &amp...  Premium   \n",
       "11292  New day new Marriott!! It's December 09, 2019 ...  Premium   \n",
       "7068   @lifefoodtravel @Marriott @MarriottBonvoy Actu...  Premium   \n",
       "5426   31st December: JW New Year’s Eve Countdown Buf...  Premium   \n",
       "503    We are in a #festive mood all December, taste ...   Luxury   \n",
       "\n",
       "      Predicted Category  \n",
       "13268            Premium  \n",
       "16883            Premium  \n",
       "8299             Premium  \n",
       "11127            Premium  \n",
       "18388            Expedia  \n",
       "12794            Premium  \n",
       "11292            Premium  \n",
       "7068             Premium  \n",
       "5426             Premium  \n",
       "503              Premium  "
      ]
     },
     "execution_count": 23,
     "metadata": {},
     "output_type": "execute_result"
    }
   ],
   "source": [
    "outcome"
   ]
  },
  {
   "cell_type": "markdown",
   "metadata": {},
   "source": [
    "The model performs quite well, with 8/10 tweets being properly classified. This is in line with the 83% accuracy of the Multinomial Logistic Regression Model. "
   ]
  },
  {
   "cell_type": "markdown",
   "metadata": {},
   "source": [
    "## Recommendations"
   ]
  },
  {
   "cell_type": "markdown",
   "metadata": {},
   "source": [
    "The model, given its accuracy,can be used to determine how a Twitter user is likely to book hotel rooms, direct with Marriott or with an online travel agency, depending on hotel class. "
   ]
  },
  {
   "cell_type": "markdown",
   "metadata": {},
   "source": [
    "## Future Work"
   ]
  },
  {
   "cell_type": "markdown",
   "metadata": {},
   "source": [
    "1. Use key themes from Word Clouds and n-grams to improve user experience\n",
    "    - Create clear brand messaging as identified for Online Travel Agencies.\n",
    "    - Use these identifiers to improve customer service responses, especially via Twitter. \n",
    "    - Find out what customers enjoy about Membership Rewards."
   ]
  }
 ],
 "metadata": {
  "kernelspec": {
   "display_name": "Python 3",
   "language": "python",
   "name": "python3"
  },
  "language_info": {
   "codemirror_mode": {
    "name": "ipython",
    "version": 3
   },
   "file_extension": ".py",
   "mimetype": "text/x-python",
   "name": "python",
   "nbconvert_exporter": "python",
   "pygments_lexer": "ipython3",
   "version": "3.6.6"
  }
 },
 "nbformat": 4,
 "nbformat_minor": 2
}
