{
 "cells": [
  {
   "cell_type": "markdown",
   "metadata": {},
   "source": [
    "# Basic Neural Network"
   ]
  },
  {
   "cell_type": "code",
   "execution_count": 1,
   "metadata": {},
   "outputs": [
    {
     "name": "stderr",
     "output_type": "stream",
     "text": [
      "Using TensorFlow backend.\n"
     ]
    },
    {
     "name": "stdout",
     "output_type": "stream",
     "text": [
      "All Libraries Imported\n"
     ]
    }
   ],
   "source": [
    "import pandas as pd\n",
    "import numpy as np\n",
    "import matplotlib.pyplot as plt\n",
    "%matplotlib inline\n",
    "import seaborn as sns\n",
    "plt.style.use('seaborn')\n",
    "\n",
    "import pickle\n",
    "\n",
    "from sklearn.model_selection import train_test_split\n",
    "from sklearn.preprocessing import LabelEncoder\n",
    "\n",
    "from keras import models\n",
    "from keras import layers\n",
    "from keras import optimizers\n",
    "from keras.utils.np_utils import to_categorical\n",
    "from keras.preprocessing.text import Tokenizer\n",
    "from keras.optimizers import SGD\n",
    "\n",
    "import warnings\n",
    "warnings.filterwarnings(\"ignore\")\n",
    "\n",
    "print('All Libraries Imported')"
   ]
  },
  {
   "cell_type": "code",
   "execution_count": 2,
   "metadata": {},
   "outputs": [],
   "source": [
    "pd.set_option('display.max_colwidth', 2000)"
   ]
  },
  {
   "cell_type": "code",
   "execution_count": 3,
   "metadata": {},
   "outputs": [],
   "source": [
    "all_data = pd.read_pickle('all_data.pkl')\n",
    "all_data.reset_index(inplace=True)\n",
    "all_data.drop(['index'], axis=1, inplace=True)"
   ]
  },
  {
   "cell_type": "code",
   "execution_count": 4,
   "metadata": {},
   "outputs": [
    {
     "data": {
      "text/html": [
       "<div>\n",
       "<style scoped>\n",
       "    .dataframe tbody tr th:only-of-type {\n",
       "        vertical-align: middle;\n",
       "    }\n",
       "\n",
       "    .dataframe tbody tr th {\n",
       "        vertical-align: top;\n",
       "    }\n",
       "\n",
       "    .dataframe thead th {\n",
       "        text-align: right;\n",
       "    }\n",
       "</style>\n",
       "<table border=\"1\" class=\"dataframe\">\n",
       "  <thead>\n",
       "    <tr style=\"text-align: right;\">\n",
       "      <th></th>\n",
       "      <th>Class</th>\n",
       "      <th>Created At</th>\n",
       "      <th>Lemmatized</th>\n",
       "      <th>Sentiment</th>\n",
       "      <th>Sentiment_TextBlob</th>\n",
       "      <th>Sentiment_VADER</th>\n",
       "      <th>Subjectivity</th>\n",
       "      <th>Tweet_Strings</th>\n",
       "      <th>Tweets</th>\n",
       "      <th>cleaned_tweets</th>\n",
       "    </tr>\n",
       "  </thead>\n",
       "  <tbody>\n",
       "    <tr>\n",
       "      <th>0</th>\n",
       "      <td>Luxury</td>\n",
       "      <td>2019-12-13 14:47:03</td>\n",
       "      <td>[polo, anyone, world, snow, polo, championship, held, december, aspenvalleypoloclub, rwaynelopez, poloevent, stregisaspen, stregishotels, richardmille, stregisresidencesboston, riograndepark, flexjet]</td>\n",
       "      <td>1</td>\n",
       "      <td>0.000000</td>\n",
       "      <td>0.4404</td>\n",
       "      <td>0.0</td>\n",
       "      <td>polo anyone world snow polo championship held december aspenvalleypoloclub rwaynelopez poloevent stregisaspen stregishotels richardmille stregisresidencesboston riograndepark flexjet</td>\n",
       "      <td>Polo anyone?\\r\\n#StRegis World Snow #Polo Championship will be held on December 18-20 at the #AspenValleyPoloClub.\\r\\n\\r\\nhttps://t.co/jz6r5t8YnN\\r\\n\\r\\n#RWayneLopez #PoloEvent #StRegis #StRegisAspen #StRegisHotels #RichardMille #StRegisResidencesBoston #RioGrandePark #FlexJet https://t.co/8zWTL21uJL</td>\n",
       "      <td>[polo, anyone, world, snow, polo, championship, held, december, aspenvalleypoloclub, rwaynelopez, poloevent, stregisaspen, stregishotels, richardmille, stregisresidencesboston, riograndepark, flexjet]</td>\n",
       "    </tr>\n",
       "    <tr>\n",
       "      <th>1</th>\n",
       "      <td>Luxury</td>\n",
       "      <td>2019-12-13 13:05:34</td>\n",
       "      <td>[fantastic, night, celebrating, th, anniversary]</td>\n",
       "      <td>1</td>\n",
       "      <td>0.400000</td>\n",
       "      <td>0.8074</td>\n",
       "      <td>0.9</td>\n",
       "      <td>fantastic night celebrating th anniversary</td>\n",
       "      <td>Fantastic night at the @TheStRegisMC celebrating is 10th #Anniversary \\r\\n#StRegis https://t.co/teQWnFtTCn</td>\n",
       "      <td>[fantastic, night, celebrating, th, anniversary]</td>\n",
       "    </tr>\n",
       "    <tr>\n",
       "      <th>2</th>\n",
       "      <td>Luxury</td>\n",
       "      <td>2019-12-13 09:16:46</td>\n",
       "      <td>[exceptional, tropical, sunshine, ensures, ultimate, relaxation, st, regis, bali, resort, enjoy, exquisite, vacation, booking, day, advance, information, click, stregisbali, liveexquisite]</td>\n",
       "      <td>1</td>\n",
       "      <td>0.413333</td>\n",
       "      <td>0.8689</td>\n",
       "      <td>0.8</td>\n",
       "      <td>exceptional tropical sunshine ensures ultimate relaxation st regis bali resort enjoy exquisite vacation booking day advance information click stregisbali liveexquisite</td>\n",
       "      <td>It's the exceptional tropical sunshine that ensures ultimate relaxation at The St. Regis Bali Resort. Enjoy an exquisite vacation with up to 20% off when booking 60 days in advance.\\r\\n——\\r\\nFor further information, click: https://t.co/rKK5O4ZBYh\\r\\n#StRegisBali #StRegis #LiveExquisite https://t.co/3TdmaHYLJP</td>\n",
       "      <td>[exceptional, tropical, sunshine, ensures, ultimate, relaxation, st, regis, bali, resort, enjoy, exquisite, vacation, booking, days, advance, information, click, stregisbali, liveexquisite]</td>\n",
       "    </tr>\n",
       "    <tr>\n",
       "      <th>3</th>\n",
       "      <td>Luxury</td>\n",
       "      <td>2019-12-13 04:05:43</td>\n",
       "      <td>[birthday, sagittarius, aspen, ilovemylife, happybirthday, velvetbuckaspen]</td>\n",
       "      <td>1</td>\n",
       "      <td>0.000000</td>\n",
       "      <td>0.0000</td>\n",
       "      <td>0.0</td>\n",
       "      <td>birthday sagittarius aspen ilovemylife happybirthday velvetbuckaspen</td>\n",
       "      <td>This is 38. 🎂🏹👀😬🍺🍰💩 @stregisaspen #birthday #🎂 #🍰 #sagittarius #1212 #🏹 #stregis #aspen #ilovemylife #happybirthday #velvetbuckaspen https://t.co/f7ZKRuUjop</td>\n",
       "      <td>[birthday, sagittarius, aspen, ilovemylife, happybirthday, velvetbuckaspen]</td>\n",
       "    </tr>\n",
       "    <tr>\n",
       "      <th>4</th>\n",
       "      <td>Luxury</td>\n",
       "      <td>2019-12-13 00:14:04</td>\n",
       "      <td>[stunning, overwater, bar, see, today, called, whale, bar, overwater, lounge, enjoy, delectable, tapa, locally, sourced, seafood, well, hand, picked, wine, spirit, relaxing, eye, mind, body, facing, ocean, madlymaldives]</td>\n",
       "      <td>1</td>\n",
       "      <td>0.341667</td>\n",
       "      <td>0.9359</td>\n",
       "      <td>0.5</td>\n",
       "      <td>stunning overwater bar see today called whale bar overwater lounge enjoy delectable tapa locally sourced seafood well hand picked wine spirit relaxing eye mind body facing ocean madlymaldives</td>\n",
       "      <td>Stunning overwater bar you will see today! It's called 🐳\"Whale Bar\"🐳. \\r\\n\\r\\nAn overwater lounge where you can enjoy delectable tapas &amp;amp; locally sourced seafood as well as hand-picked wines and spirits while relaxing your eyes, mind, and body facing the ocean.\\r\\n#StRegis #madlymaldives https://t.co/lqrdk5YsO6</td>\n",
       "      <td>[stunning, overwater, bar, see, today, called, whale, bar, overwater, lounge, enjoy, delectable, tapas, locally, sourced, seafood, well, hand, picked, wines, spirits, relaxing, eyes, mind, body, facing, ocean, madlymaldives]</td>\n",
       "    </tr>\n",
       "  </tbody>\n",
       "</table>\n",
       "</div>"
      ],
      "text/plain": [
       "    Class           Created At  \\\n",
       "0  Luxury  2019-12-13 14:47:03   \n",
       "1  Luxury  2019-12-13 13:05:34   \n",
       "2  Luxury  2019-12-13 09:16:46   \n",
       "3  Luxury  2019-12-13 04:05:43   \n",
       "4  Luxury  2019-12-13 00:14:04   \n",
       "\n",
       "                                                                                                                                                                                                                     Lemmatized  \\\n",
       "0                      [polo, anyone, world, snow, polo, championship, held, december, aspenvalleypoloclub, rwaynelopez, poloevent, stregisaspen, stregishotels, richardmille, stregisresidencesboston, riograndepark, flexjet]   \n",
       "1                                                                                                                                                                              [fantastic, night, celebrating, th, anniversary]   \n",
       "2                                  [exceptional, tropical, sunshine, ensures, ultimate, relaxation, st, regis, bali, resort, enjoy, exquisite, vacation, booking, day, advance, information, click, stregisbali, liveexquisite]   \n",
       "3                                                                                                                                                   [birthday, sagittarius, aspen, ilovemylife, happybirthday, velvetbuckaspen]   \n",
       "4  [stunning, overwater, bar, see, today, called, whale, bar, overwater, lounge, enjoy, delectable, tapa, locally, sourced, seafood, well, hand, picked, wine, spirit, relaxing, eye, mind, body, facing, ocean, madlymaldives]   \n",
       "\n",
       "   Sentiment  Sentiment_TextBlob  Sentiment_VADER  Subjectivity  \\\n",
       "0          1            0.000000           0.4404           0.0   \n",
       "1          1            0.400000           0.8074           0.9   \n",
       "2          1            0.413333           0.8689           0.8   \n",
       "3          1            0.000000           0.0000           0.0   \n",
       "4          1            0.341667           0.9359           0.5   \n",
       "\n",
       "                                                                                                                                                                                     Tweet_Strings  \\\n",
       "0           polo anyone world snow polo championship held december aspenvalleypoloclub rwaynelopez poloevent stregisaspen stregishotels richardmille stregisresidencesboston riograndepark flexjet   \n",
       "1                                                                                                                                                       fantastic night celebrating th anniversary   \n",
       "2                          exceptional tropical sunshine ensures ultimate relaxation st regis bali resort enjoy exquisite vacation booking day advance information click stregisbali liveexquisite   \n",
       "3                                                                                                                             birthday sagittarius aspen ilovemylife happybirthday velvetbuckaspen   \n",
       "4  stunning overwater bar see today called whale bar overwater lounge enjoy delectable tapa locally sourced seafood well hand picked wine spirit relaxing eye mind body facing ocean madlymaldives   \n",
       "\n",
       "                                                                                                                                                                                                                                                                                                                        Tweets  \\\n",
       "0                Polo anyone?\\r\\n#StRegis World Snow #Polo Championship will be held on December 18-20 at the #AspenValleyPoloClub.\\r\\n\\r\\nhttps://t.co/jz6r5t8YnN\\r\\n\\r\\n#RWayneLopez #PoloEvent #StRegis #StRegisAspen #StRegisHotels #RichardMille #StRegisResidencesBoston #RioGrandePark #FlexJet https://t.co/8zWTL21uJL   \n",
       "1                                                                                                                                                                                                                   Fantastic night at the @TheStRegisMC celebrating is 10th #Anniversary \\r\\n#StRegis https://t.co/teQWnFtTCn   \n",
       "2       It's the exceptional tropical sunshine that ensures ultimate relaxation at The St. Regis Bali Resort. Enjoy an exquisite vacation with up to 20% off when booking 60 days in advance.\\r\\n——\\r\\nFor further information, click: https://t.co/rKK5O4ZBYh\\r\\n#StRegisBali #StRegis #LiveExquisite https://t.co/3TdmaHYLJP   \n",
       "3                                                                                                                                                                 This is 38. 🎂🏹👀😬🍺🍰💩 @stregisaspen #birthday #🎂 #🍰 #sagittarius #1212 #🏹 #stregis #aspen #ilovemylife #happybirthday #velvetbuckaspen https://t.co/f7ZKRuUjop   \n",
       "4  Stunning overwater bar you will see today! It's called 🐳\"Whale Bar\"🐳. \\r\\n\\r\\nAn overwater lounge where you can enjoy delectable tapas &amp; locally sourced seafood as well as hand-picked wines and spirits while relaxing your eyes, mind, and body facing the ocean.\\r\\n#StRegis #madlymaldives https://t.co/lqrdk5YsO6   \n",
       "\n",
       "                                                                                                                                                                                                                     cleaned_tweets  \n",
       "0                          [polo, anyone, world, snow, polo, championship, held, december, aspenvalleypoloclub, rwaynelopez, poloevent, stregisaspen, stregishotels, richardmille, stregisresidencesboston, riograndepark, flexjet]  \n",
       "1                                                                                                                                                                                  [fantastic, night, celebrating, th, anniversary]  \n",
       "2                                     [exceptional, tropical, sunshine, ensures, ultimate, relaxation, st, regis, bali, resort, enjoy, exquisite, vacation, booking, days, advance, information, click, stregisbali, liveexquisite]  \n",
       "3                                                                                                                                                       [birthday, sagittarius, aspen, ilovemylife, happybirthday, velvetbuckaspen]  \n",
       "4  [stunning, overwater, bar, see, today, called, whale, bar, overwater, lounge, enjoy, delectable, tapas, locally, sourced, seafood, well, hand, picked, wines, spirits, relaxing, eyes, mind, body, facing, ocean, madlymaldives]  "
      ]
     },
     "metadata": {},
     "output_type": "display_data"
    },
    {
     "name": "stdout",
     "output_type": "stream",
     "text": [
      "<class 'pandas.core.frame.DataFrame'>\n",
      "RangeIndex: 19936 entries, 0 to 19935\n",
      "Data columns (total 10 columns):\n",
      "Class                 19936 non-null object\n",
      "Created At            19936 non-null object\n",
      "Lemmatized            19936 non-null object\n",
      "Sentiment             19936 non-null int64\n",
      "Sentiment_TextBlob    19936 non-null float64\n",
      "Sentiment_VADER       19936 non-null float64\n",
      "Subjectivity          19936 non-null float64\n",
      "Tweet_Strings         19936 non-null object\n",
      "Tweets                19936 non-null object\n",
      "cleaned_tweets        19936 non-null object\n",
      "dtypes: float64(3), int64(1), object(6)\n",
      "memory usage: 1.5+ MB\n"
     ]
    },
    {
     "data": {
      "text/plain": [
       "None"
      ]
     },
     "metadata": {},
     "output_type": "display_data"
    },
    {
     "data": {
      "text/html": [
       "<div>\n",
       "<style scoped>\n",
       "    .dataframe tbody tr th:only-of-type {\n",
       "        vertical-align: middle;\n",
       "    }\n",
       "\n",
       "    .dataframe tbody tr th {\n",
       "        vertical-align: top;\n",
       "    }\n",
       "\n",
       "    .dataframe thead th {\n",
       "        text-align: right;\n",
       "    }\n",
       "</style>\n",
       "<table border=\"1\" class=\"dataframe\">\n",
       "  <thead>\n",
       "    <tr style=\"text-align: right;\">\n",
       "      <th></th>\n",
       "      <th>Sentiment</th>\n",
       "      <th>Sentiment_TextBlob</th>\n",
       "      <th>Sentiment_VADER</th>\n",
       "      <th>Subjectivity</th>\n",
       "    </tr>\n",
       "  </thead>\n",
       "  <tbody>\n",
       "    <tr>\n",
       "      <th>count</th>\n",
       "      <td>19936.00</td>\n",
       "      <td>19936.00</td>\n",
       "      <td>19936.00</td>\n",
       "      <td>19936.00</td>\n",
       "    </tr>\n",
       "    <tr>\n",
       "      <th>mean</th>\n",
       "      <td>0.87</td>\n",
       "      <td>0.18</td>\n",
       "      <td>0.29</td>\n",
       "      <td>0.35</td>\n",
       "    </tr>\n",
       "    <tr>\n",
       "      <th>std</th>\n",
       "      <td>0.33</td>\n",
       "      <td>0.31</td>\n",
       "      <td>0.43</td>\n",
       "      <td>0.32</td>\n",
       "    </tr>\n",
       "    <tr>\n",
       "      <th>min</th>\n",
       "      <td>0.00</td>\n",
       "      <td>-1.00</td>\n",
       "      <td>-0.97</td>\n",
       "      <td>0.00</td>\n",
       "    </tr>\n",
       "    <tr>\n",
       "      <th>25%</th>\n",
       "      <td>1.00</td>\n",
       "      <td>0.00</td>\n",
       "      <td>0.00</td>\n",
       "      <td>0.00</td>\n",
       "    </tr>\n",
       "    <tr>\n",
       "      <th>50%</th>\n",
       "      <td>1.00</td>\n",
       "      <td>0.05</td>\n",
       "      <td>0.36</td>\n",
       "      <td>0.35</td>\n",
       "    </tr>\n",
       "    <tr>\n",
       "      <th>75%</th>\n",
       "      <td>1.00</td>\n",
       "      <td>0.35</td>\n",
       "      <td>0.64</td>\n",
       "      <td>0.60</td>\n",
       "    </tr>\n",
       "    <tr>\n",
       "      <th>max</th>\n",
       "      <td>1.00</td>\n",
       "      <td>1.00</td>\n",
       "      <td>0.99</td>\n",
       "      <td>1.00</td>\n",
       "    </tr>\n",
       "  </tbody>\n",
       "</table>\n",
       "</div>"
      ],
      "text/plain": [
       "       Sentiment  Sentiment_TextBlob  Sentiment_VADER  Subjectivity\n",
       "count   19936.00            19936.00         19936.00      19936.00\n",
       "mean        0.87                0.18             0.29          0.35\n",
       "std         0.33                0.31             0.43          0.32\n",
       "min         0.00               -1.00            -0.97          0.00\n",
       "25%         1.00                0.00             0.00          0.00\n",
       "50%         1.00                0.05             0.36          0.35\n",
       "75%         1.00                0.35             0.64          0.60\n",
       "max         1.00                1.00             0.99          1.00"
      ]
     },
     "metadata": {},
     "output_type": "display_data"
    }
   ],
   "source": [
    "display(all_data.head())\n",
    "display(all_data.info())\n",
    "display(round(all_data.describe(),2))"
   ]
  },
  {
   "cell_type": "code",
   "execution_count": 5,
   "metadata": {},
   "outputs": [
    {
     "name": "stdout",
     "output_type": "stream",
     "text": [
      "Number of rows:  19936\n",
      "Number of columns:  10\n"
     ]
    }
   ],
   "source": [
    "rows,cols = all_data.shape\n",
    "print(\"Number of rows: \", rows)\n",
    "print(\"Number of columns: \", cols)"
   ]
  },
  {
   "cell_type": "code",
   "execution_count": 6,
   "metadata": {},
   "outputs": [
    {
     "data": {
      "text/html": [
       "<div>\n",
       "<style scoped>\n",
       "    .dataframe tbody tr th:only-of-type {\n",
       "        vertical-align: middle;\n",
       "    }\n",
       "\n",
       "    .dataframe tbody tr th {\n",
       "        vertical-align: top;\n",
       "    }\n",
       "\n",
       "    .dataframe thead th {\n",
       "        text-align: right;\n",
       "    }\n",
       "</style>\n",
       "<table border=\"1\" class=\"dataframe\">\n",
       "  <thead>\n",
       "    <tr style=\"text-align: right;\">\n",
       "      <th></th>\n",
       "      <th>Total</th>\n",
       "      <th>Percent</th>\n",
       "    </tr>\n",
       "  </thead>\n",
       "  <tbody>\n",
       "    <tr>\n",
       "      <th>cleaned_tweets</th>\n",
       "      <td>0</td>\n",
       "      <td>0.0</td>\n",
       "    </tr>\n",
       "    <tr>\n",
       "      <th>Tweets</th>\n",
       "      <td>0</td>\n",
       "      <td>0.0</td>\n",
       "    </tr>\n",
       "    <tr>\n",
       "      <th>Tweet_Strings</th>\n",
       "      <td>0</td>\n",
       "      <td>0.0</td>\n",
       "    </tr>\n",
       "    <tr>\n",
       "      <th>Subjectivity</th>\n",
       "      <td>0</td>\n",
       "      <td>0.0</td>\n",
       "    </tr>\n",
       "    <tr>\n",
       "      <th>Sentiment_VADER</th>\n",
       "      <td>0</td>\n",
       "      <td>0.0</td>\n",
       "    </tr>\n",
       "    <tr>\n",
       "      <th>Sentiment_TextBlob</th>\n",
       "      <td>0</td>\n",
       "      <td>0.0</td>\n",
       "    </tr>\n",
       "    <tr>\n",
       "      <th>Sentiment</th>\n",
       "      <td>0</td>\n",
       "      <td>0.0</td>\n",
       "    </tr>\n",
       "    <tr>\n",
       "      <th>Lemmatized</th>\n",
       "      <td>0</td>\n",
       "      <td>0.0</td>\n",
       "    </tr>\n",
       "    <tr>\n",
       "      <th>Created At</th>\n",
       "      <td>0</td>\n",
       "      <td>0.0</td>\n",
       "    </tr>\n",
       "    <tr>\n",
       "      <th>Class</th>\n",
       "      <td>0</td>\n",
       "      <td>0.0</td>\n",
       "    </tr>\n",
       "  </tbody>\n",
       "</table>\n",
       "</div>"
      ],
      "text/plain": [
       "                    Total  Percent\n",
       "cleaned_tweets          0      0.0\n",
       "Tweets                  0      0.0\n",
       "Tweet_Strings           0      0.0\n",
       "Subjectivity            0      0.0\n",
       "Sentiment_VADER         0      0.0\n",
       "Sentiment_TextBlob      0      0.0\n",
       "Sentiment               0      0.0\n",
       "Lemmatized              0      0.0\n",
       "Created At              0      0.0\n",
       "Class                   0      0.0"
      ]
     },
     "execution_count": 6,
     "metadata": {},
     "output_type": "execute_result"
    }
   ],
   "source": [
    "#missing data\n",
    "total = all_data.isnull().sum().sort_values(ascending=False)\n",
    "percent = (all_data.isnull().sum()/all_data.isnull().count()).sort_values(ascending=False)\n",
    "missing_data = pd.concat([total, percent], axis=1, keys=['Total', 'Percent'])\n",
    "missing_data.head(20)"
   ]
  },
  {
   "cell_type": "code",
   "execution_count": 7,
   "metadata": {},
   "outputs": [
    {
     "name": "stdout",
     "output_type": "stream",
     "text": [
      "sequences type: <class 'list'>\n",
      "one_hot_results type: <class 'numpy.ndarray'>\n",
      "Found 24545 unique tokens.\n",
      "Dimensions of our coded results: (19936, 2000)\n"
     ]
    }
   ],
   "source": [
    "tweets = all_data['Tweet_Strings'] \n",
    "tokenizer = Tokenizer(num_words=2000)\n",
    "tokenizer.fit_on_texts(tweets)\n",
    "sequences = tokenizer.texts_to_sequences(tweets) \n",
    "print('sequences type:', type(sequences))\n",
    "one_hot_results= tokenizer.texts_to_matrix(tweets, mode='binary')\n",
    "print('one_hot_results type:', type(one_hot_results))\n",
    "word_index = tokenizer.word_index\n",
    "print('Found %s unique tokens.' % len(word_index))\n",
    "print('Dimensions of our coded results:', np.shape(one_hot_results))"
   ]
  },
  {
   "cell_type": "code",
   "execution_count": 8,
   "metadata": {},
   "outputs": [
    {
     "name": "stdout",
     "output_type": "stream",
     "text": [
      "Original class labels:\n",
      "['Booking.com', 'Expedia', 'Luxury', 'Premium', 'Priceline', 'Select']\n",
      "\n",
      "\n",
      "New product labels:\n",
      "[2 2 2 ... 0 0 0]\n",
      "\n",
      "\n",
      "One hot labels; 6 binary columns, one for each of the categories.\n",
      "[[0. 0. 1. 0. 0. 0.]\n",
      " [0. 0. 1. 0. 0. 0.]\n",
      " [0. 0. 1. 0. 0. 0.]\n",
      " ...\n",
      " [1. 0. 0. 0. 0. 0.]\n",
      " [1. 0. 0. 0. 0. 0.]\n",
      " [1. 0. 0. 0. 0. 0.]]\n",
      "\n",
      "\n",
      "One hot labels shape:\n",
      "(19936, 6)\n"
     ]
    }
   ],
   "source": [
    "classes = all_data['Class']\n",
    "\n",
    "le = LabelEncoder() \n",
    "le.fit(classes)\n",
    "print(\"Original class labels:\")\n",
    "print(list(le.classes_))\n",
    "print('\\n')\n",
    "classes_cat = le.transform(classes)  \n",
    "\n",
    "print('New product labels:')\n",
    "print(classes_cat)\n",
    "print('\\n')\n",
    "\n",
    "\n",
    "print('One hot labels; 6 binary columns, one for each of the categories.')\n",
    "classes_onehot = to_categorical(classes_cat)\n",
    "print(classes_onehot)\n",
    "print('\\n')\n",
    "\n",
    "print('One hot labels shape:')\n",
    "print(np.shape(classes_onehot))"
   ]
  },
  {
   "cell_type": "code",
   "execution_count": 9,
   "metadata": {},
   "outputs": [],
   "source": [
    "#train_test_split\n",
    "neural_X_train, neural_X_test, neural_y_train, neural_y_test = train_test_split(one_hot_results,classes_onehot,test_size=0.2, random_state=42)\n",
    "neural_X_train, neural_X_val, neural_y_train, neural_y_val = train_test_split(neural_X_train,neural_y_train,test_size=0.2, random_state=42)"
   ]
  },
  {
   "cell_type": "code",
   "execution_count": 10,
   "metadata": {},
   "outputs": [],
   "source": [
    "model = models.Sequential()\n",
    "model.add(layers.Dense(50, activation='relu', input_shape=(2000,)))\n",
    "model.add(layers.Dense(25, activation='relu'))\n",
    "model.add(layers.Dense(6, activation='softmax'))"
   ]
  },
  {
   "cell_type": "code",
   "execution_count": 11,
   "metadata": {},
   "outputs": [],
   "source": [
    "sgd = optimizers.SGD(lr=0.01, decay=1e-6, momentum=0.9)"
   ]
  },
  {
   "cell_type": "code",
   "execution_count": 12,
   "metadata": {},
   "outputs": [
    {
     "name": "stdout",
     "output_type": "stream",
     "text": [
      "_________________________________________________________________\n",
      "Layer (type)                 Output Shape              Param #   \n",
      "=================================================================\n",
      "dense_1 (Dense)              (None, 50)                100050    \n",
      "_________________________________________________________________\n",
      "dense_2 (Dense)              (None, 25)                1275      \n",
      "_________________________________________________________________\n",
      "dense_3 (Dense)              (None, 6)                 156       \n",
      "=================================================================\n",
      "Total params: 101,481\n",
      "Trainable params: 101,481\n",
      "Non-trainable params: 0\n",
      "_________________________________________________________________\n",
      "None\n"
     ]
    }
   ],
   "source": [
    "model.compile(optimizer='SGD',\n",
    "              loss='categorical_crossentropy',\n",
    "              metrics=['accuracy'])\n",
    "\n",
    "print(model.summary())"
   ]
  },
  {
   "cell_type": "code",
   "execution_count": 13,
   "metadata": {},
   "outputs": [
    {
     "name": "stdout",
     "output_type": "stream",
     "text": [
      "Train on 12758 samples, validate on 3190 samples\n",
      "Epoch 1/120\n",
      "12758/12758 [==============================] - 1s 51us/step - loss: 1.6125 - acc: 0.6406 - val_loss: 1.4589 - val_acc: 0.6765\n",
      "Epoch 2/120\n",
      "12758/12758 [==============================] - 0s 38us/step - loss: 1.3498 - acc: 0.6728 - val_loss: 1.2362 - val_acc: 0.6765\n",
      "Epoch 3/120\n",
      "12758/12758 [==============================] - 0s 39us/step - loss: 1.1816 - acc: 0.6728 - val_loss: 1.1149 - val_acc: 0.6765\n",
      "Epoch 4/120\n",
      "12758/12758 [==============================] - 0s 38us/step - loss: 1.1017 - acc: 0.6728 - val_loss: 1.0618 - val_acc: 0.6765\n",
      "Epoch 5/120\n",
      "12758/12758 [==============================] - 1s 96us/step - loss: 1.0673 - acc: 0.6728 - val_loss: 1.0360 - val_acc: 0.6765\n",
      "Epoch 6/120\n",
      "12758/12758 [==============================] - 1s 56us/step - loss: 1.0489 - acc: 0.6728 - val_loss: 1.0192 - val_acc: 0.6765\n",
      "Epoch 7/120\n",
      "12758/12758 [==============================] - 1s 59us/step - loss: 1.0360 - acc: 0.6728 - val_loss: 1.0064 - val_acc: 0.6765\n",
      "Epoch 8/120\n",
      "12758/12758 [==============================] - 1s 45us/step - loss: 1.0259 - acc: 0.6728 - val_loss: 0.9960 - val_acc: 0.6765\n",
      "Epoch 9/120\n",
      "12758/12758 [==============================] - 1s 41us/step - loss: 1.0175 - acc: 0.6728 - val_loss: 0.9872 - val_acc: 0.6765\n",
      "Epoch 10/120\n",
      "12758/12758 [==============================] - 1s 43us/step - loss: 1.0102 - acc: 0.6728 - val_loss: 0.9794 - val_acc: 0.6765\n",
      "Epoch 11/120\n",
      "12758/12758 [==============================] - 0s 39us/step - loss: 1.0035 - acc: 0.6728 - val_loss: 0.9724 - val_acc: 0.6765\n",
      "Epoch 12/120\n",
      "12758/12758 [==============================] - 0s 38us/step - loss: 0.9974 - acc: 0.6728 - val_loss: 0.9659 - val_acc: 0.6765\n",
      "Epoch 13/120\n",
      "12758/12758 [==============================] - 0s 39us/step - loss: 0.9915 - acc: 0.6728 - val_loss: 0.9597 - val_acc: 0.6765\n",
      "Epoch 14/120\n",
      "12758/12758 [==============================] - 0s 39us/step - loss: 0.9858 - acc: 0.6728 - val_loss: 0.9536 - val_acc: 0.6765\n",
      "Epoch 15/120\n",
      "12758/12758 [==============================] - 0s 39us/step - loss: 0.9802 - acc: 0.6728 - val_loss: 0.9476 - val_acc: 0.6765\n",
      "Epoch 16/120\n",
      "12758/12758 [==============================] - 1s 46us/step - loss: 0.9745 - acc: 0.6728 - val_loss: 0.9417 - val_acc: 0.6765\n",
      "Epoch 17/120\n",
      "12758/12758 [==============================] - 1s 49us/step - loss: 0.9687 - acc: 0.6728 - val_loss: 0.9356 - val_acc: 0.6765\n",
      "Epoch 18/120\n",
      "12758/12758 [==============================] - 1s 45us/step - loss: 0.9628 - acc: 0.6728 - val_loss: 0.9293 - val_acc: 0.6774\n",
      "Epoch 19/120\n",
      "12758/12758 [==============================] - 1s 48us/step - loss: 0.9567 - acc: 0.6749 - val_loss: 0.9228 - val_acc: 0.6837\n",
      "Epoch 20/120\n",
      "12758/12758 [==============================] - 1s 43us/step - loss: 0.9505 - acc: 0.6815 - val_loss: 0.9161 - val_acc: 0.6897\n",
      "Epoch 21/120\n",
      "12758/12758 [==============================] - 1s 40us/step - loss: 0.9440 - acc: 0.6840 - val_loss: 0.9094 - val_acc: 0.6928\n",
      "Epoch 22/120\n",
      "12758/12758 [==============================] - 1s 40us/step - loss: 0.9375 - acc: 0.6855 - val_loss: 0.9027 - val_acc: 0.6931\n",
      "Epoch 23/120\n",
      "12758/12758 [==============================] - 0s 39us/step - loss: 0.9310 - acc: 0.6861 - val_loss: 0.8959 - val_acc: 0.6940\n",
      "Epoch 24/120\n",
      "12758/12758 [==============================] - 1s 40us/step - loss: 0.9244 - acc: 0.6864 - val_loss: 0.8893 - val_acc: 0.6947\n",
      "Epoch 25/120\n",
      "12758/12758 [==============================] - 1s 41us/step - loss: 0.9179 - acc: 0.6872 - val_loss: 0.8827 - val_acc: 0.6953\n",
      "Epoch 26/120\n",
      "12758/12758 [==============================] - 1s 43us/step - loss: 0.9114 - acc: 0.6884 - val_loss: 0.8762 - val_acc: 0.6975\n",
      "Epoch 27/120\n",
      "12758/12758 [==============================] - 1s 54us/step - loss: 0.9049 - acc: 0.6911 - val_loss: 0.8697 - val_acc: 0.7013\n",
      "Epoch 28/120\n",
      "12758/12758 [==============================] - 1s 57us/step - loss: 0.8984 - acc: 0.6943 - val_loss: 0.8632 - val_acc: 0.7041\n",
      "Epoch 29/120\n",
      "12758/12758 [==============================] - 1s 47us/step - loss: 0.8920 - acc: 0.6963 - val_loss: 0.8568 - val_acc: 0.7072\n",
      "Epoch 30/120\n",
      "12758/12758 [==============================] - 1s 44us/step - loss: 0.8856 - acc: 0.6994 - val_loss: 0.8505 - val_acc: 0.7110\n",
      "Epoch 31/120\n",
      "12758/12758 [==============================] - 1s 45us/step - loss: 0.8793 - acc: 0.7017 - val_loss: 0.8443 - val_acc: 0.7138\n",
      "Epoch 32/120\n",
      "12758/12758 [==============================] - 1s 46us/step - loss: 0.8731 - acc: 0.7045 - val_loss: 0.8381 - val_acc: 0.7154\n",
      "Epoch 33/120\n",
      "12758/12758 [==============================] - 1s 47us/step - loss: 0.8669 - acc: 0.7074 - val_loss: 0.8320 - val_acc: 0.7191\n",
      "Epoch 34/120\n",
      "12758/12758 [==============================] - 1s 48us/step - loss: 0.8608 - acc: 0.7101 - val_loss: 0.8262 - val_acc: 0.7210\n",
      "Epoch 35/120\n",
      "12758/12758 [==============================] - 1s 50us/step - loss: 0.8548 - acc: 0.7130 - val_loss: 0.8204 - val_acc: 0.7235\n",
      "Epoch 36/120\n",
      "12758/12758 [==============================] - ETA: 0s - loss: 0.8474 - acc: 0.716 - 1s 45us/step - loss: 0.8489 - acc: 0.7166 - val_loss: 0.8148 - val_acc: 0.7279\n",
      "Epoch 37/120\n",
      "12758/12758 [==============================] - 1s 50us/step - loss: 0.8431 - acc: 0.7203 - val_loss: 0.8093 - val_acc: 0.7317\n",
      "Epoch 38/120\n",
      "12758/12758 [==============================] - 1s 48us/step - loss: 0.8375 - acc: 0.7228 - val_loss: 0.8041 - val_acc: 0.7354\n",
      "Epoch 39/120\n",
      "12758/12758 [==============================] - 1s 46us/step - loss: 0.8320 - acc: 0.7258 - val_loss: 0.7991 - val_acc: 0.7408\n",
      "Epoch 40/120\n",
      "12758/12758 [==============================] - 1s 43us/step - loss: 0.8267 - acc: 0.7293 - val_loss: 0.7941 - val_acc: 0.7423\n",
      "Epoch 41/120\n",
      "12758/12758 [==============================] - 1s 42us/step - loss: 0.8215 - acc: 0.7326 - val_loss: 0.7893 - val_acc: 0.7426\n",
      "Epoch 42/120\n",
      "12758/12758 [==============================] - 0s 38us/step - loss: 0.8165 - acc: 0.7346 - val_loss: 0.7847 - val_acc: 0.7442\n",
      "Epoch 43/120\n",
      "12758/12758 [==============================] - 0s 38us/step - loss: 0.8116 - acc: 0.7369 - val_loss: 0.7802 - val_acc: 0.7470\n",
      "Epoch 44/120\n",
      "12758/12758 [==============================] - 0s 38us/step - loss: 0.8068 - acc: 0.7389 - val_loss: 0.7759 - val_acc: 0.7486\n",
      "Epoch 45/120\n",
      "12758/12758 [==============================] - 1s 45us/step - loss: 0.8022 - acc: 0.7411 - val_loss: 0.7718 - val_acc: 0.7505\n",
      "Epoch 46/120\n",
      "12758/12758 [==============================] - 0s 38us/step - loss: 0.7977 - acc: 0.7427 - val_loss: 0.7678 - val_acc: 0.7517\n",
      "Epoch 47/120\n",
      "12758/12758 [==============================] - 1s 43us/step - loss: 0.7933 - acc: 0.7444 - val_loss: 0.7640 - val_acc: 0.7524\n",
      "Epoch 48/120\n",
      "12758/12758 [==============================] - 1s 50us/step - loss: 0.7890 - acc: 0.7457 - val_loss: 0.7603 - val_acc: 0.7527\n",
      "Epoch 49/120\n",
      "12758/12758 [==============================] - 1s 47us/step - loss: 0.7848 - acc: 0.7466 - val_loss: 0.7570 - val_acc: 0.7533\n",
      "Epoch 50/120\n",
      "12758/12758 [==============================] - 1s 43us/step - loss: 0.7808 - acc: 0.7485 - val_loss: 0.7533 - val_acc: 0.7539\n",
      "Epoch 51/120\n",
      "12758/12758 [==============================] - 1s 45us/step - loss: 0.7769 - acc: 0.7492 - val_loss: 0.7500 - val_acc: 0.7555\n",
      "Epoch 52/120\n",
      "12758/12758 [==============================] - 0s 39us/step - loss: 0.7730 - acc: 0.7500 - val_loss: 0.7468 - val_acc: 0.7564\n",
      "Epoch 53/120\n",
      "12758/12758 [==============================] - 0s 38us/step - loss: 0.7693 - acc: 0.7510 - val_loss: 0.7437 - val_acc: 0.7567\n",
      "Epoch 54/120\n",
      "12758/12758 [==============================] - 1s 43us/step - loss: 0.7657 - acc: 0.7525 - val_loss: 0.7407 - val_acc: 0.7577\n",
      "Epoch 55/120\n",
      "12758/12758 [==============================] - 1s 46us/step - loss: 0.7622 - acc: 0.7536 - val_loss: 0.7378 - val_acc: 0.7586\n",
      "Epoch 56/120\n",
      "12758/12758 [==============================] - 1s 42us/step - loss: 0.7587 - acc: 0.7542 - val_loss: 0.7351 - val_acc: 0.7589\n",
      "Epoch 57/120\n",
      "12758/12758 [==============================] - 1s 41us/step - loss: 0.7553 - acc: 0.7550 - val_loss: 0.7324 - val_acc: 0.7592\n",
      "Epoch 58/120\n",
      "12758/12758 [==============================] - 1s 52us/step - loss: 0.7520 - acc: 0.7558 - val_loss: 0.7299 - val_acc: 0.7592\n",
      "Epoch 59/120\n",
      "12758/12758 [==============================] - 1s 51us/step - loss: 0.7488 - acc: 0.7570 - val_loss: 0.7273 - val_acc: 0.7596\n",
      "Epoch 60/120\n",
      "12758/12758 [==============================] - 1s 43us/step - loss: 0.7456 - acc: 0.7579 - val_loss: 0.7249 - val_acc: 0.7611\n",
      "Epoch 61/120\n",
      "12758/12758 [==============================] - 1s 40us/step - loss: 0.7425 - acc: 0.7588 - val_loss: 0.7225 - val_acc: 0.7618\n",
      "Epoch 62/120\n",
      "12758/12758 [==============================] - 1s 41us/step - loss: 0.7395 - acc: 0.7594 - val_loss: 0.7202 - val_acc: 0.7618\n",
      "Epoch 63/120\n",
      "12758/12758 [==============================] - 0s 38us/step - loss: 0.7365 - acc: 0.7601 - val_loss: 0.7180 - val_acc: 0.7652\n",
      "Epoch 64/120\n",
      "12758/12758 [==============================] - 0s 37us/step - loss: 0.7336 - acc: 0.7611 - val_loss: 0.7158 - val_acc: 0.7655\n",
      "Epoch 65/120\n",
      "12758/12758 [==============================] - 0s 39us/step - loss: 0.7307 - acc: 0.7617 - val_loss: 0.7136 - val_acc: 0.7655\n",
      "Epoch 66/120\n",
      "12758/12758 [==============================] - 0s 38us/step - loss: 0.7278 - acc: 0.7633 - val_loss: 0.7115 - val_acc: 0.7655\n",
      "Epoch 67/120\n",
      "12758/12758 [==============================] - 1s 40us/step - loss: 0.7250 - acc: 0.7636 - val_loss: 0.7095 - val_acc: 0.7658\n",
      "Epoch 68/120\n",
      "12758/12758 [==============================] - 1s 50us/step - loss: 0.7223 - acc: 0.7641 - val_loss: 0.7075 - val_acc: 0.7668\n",
      "Epoch 69/120\n",
      "12758/12758 [==============================] - 1s 48us/step - loss: 0.7196 - acc: 0.7647 - val_loss: 0.7056 - val_acc: 0.7674\n",
      "Epoch 70/120\n",
      "12758/12758 [==============================] - ETA: 0s - loss: 0.7156 - acc: 0.766 - 1s 47us/step - loss: 0.7169 - acc: 0.7657 - val_loss: 0.7038 - val_acc: 0.7687\n",
      "Epoch 71/120\n",
      "12758/12758 [==============================] - 1s 42us/step - loss: 0.7143 - acc: 0.7665 - val_loss: 0.7019 - val_acc: 0.7683\n",
      "Epoch 72/120\n",
      "12758/12758 [==============================] - 1s 41us/step - loss: 0.7117 - acc: 0.7665 - val_loss: 0.7002 - val_acc: 0.7690\n",
      "Epoch 73/120\n",
      "12758/12758 [==============================] - 0s 39us/step - loss: 0.7092 - acc: 0.7676 - val_loss: 0.6984 - val_acc: 0.7683\n",
      "Epoch 74/120\n",
      "12758/12758 [==============================] - 0s 37us/step - loss: 0.7067 - acc: 0.7681 - val_loss: 0.6968 - val_acc: 0.7683\n",
      "Epoch 75/120\n",
      "12758/12758 [==============================] - 0s 39us/step - loss: 0.7043 - acc: 0.7686 - val_loss: 0.6950 - val_acc: 0.7687\n",
      "Epoch 76/120\n",
      "12758/12758 [==============================] - 0s 37us/step - loss: 0.7018 - acc: 0.7692 - val_loss: 0.6934 - val_acc: 0.7699\n",
      "Epoch 77/120\n",
      "12758/12758 [==============================] - 0s 38us/step - loss: 0.6994 - acc: 0.7695 - val_loss: 0.6918 - val_acc: 0.7715\n",
      "Epoch 78/120\n",
      "12758/12758 [==============================] - 1s 47us/step - loss: 0.6970 - acc: 0.7697 - val_loss: 0.6902 - val_acc: 0.7724\n",
      "Epoch 79/120\n",
      "12758/12758 [==============================] - 1s 49us/step - loss: 0.6947 - acc: 0.7709 - val_loss: 0.6887 - val_acc: 0.7734\n",
      "Epoch 80/120\n",
      "12758/12758 [==============================] - 1s 46us/step - loss: 0.6923 - acc: 0.7710 - val_loss: 0.6872 - val_acc: 0.7727\n",
      "Epoch 81/120\n",
      "12758/12758 [==============================] - 1s 41us/step - loss: 0.6900 - acc: 0.7709 - val_loss: 0.6857 - val_acc: 0.7737\n",
      "Epoch 82/120\n",
      "12758/12758 [==============================] - 1s 41us/step - loss: 0.6878 - acc: 0.7713 - val_loss: 0.6844 - val_acc: 0.7749\n",
      "Epoch 83/120\n",
      "12758/12758 [==============================] - 0s 39us/step - loss: 0.6855 - acc: 0.7720 - val_loss: 0.6829 - val_acc: 0.7743\n",
      "Epoch 84/120\n",
      "12758/12758 [==============================] - 1s 43us/step - loss: 0.6833 - acc: 0.7721 - val_loss: 0.6815 - val_acc: 0.7759\n",
      "Epoch 85/120\n",
      "12758/12758 [==============================] - 1s 41us/step - loss: 0.6811 - acc: 0.7727 - val_loss: 0.6802 - val_acc: 0.7768\n",
      "Epoch 86/120\n",
      "12758/12758 [==============================] - 0s 39us/step - loss: 0.6788 - acc: 0.7727 - val_loss: 0.6789 - val_acc: 0.7768\n",
      "Epoch 87/120\n",
      "12758/12758 [==============================] - 0s 39us/step - loss: 0.6767 - acc: 0.7731 - val_loss: 0.6776 - val_acc: 0.7771\n",
      "Epoch 88/120\n",
      "12758/12758 [==============================] - 1s 43us/step - loss: 0.6746 - acc: 0.7740 - val_loss: 0.6762 - val_acc: 0.7784\n",
      "Epoch 89/120\n",
      "12758/12758 [==============================] - 1s 51us/step - loss: 0.6724 - acc: 0.7751 - val_loss: 0.6751 - val_acc: 0.7796\n",
      "Epoch 90/120\n",
      "12758/12758 [==============================] - 1s 46us/step - loss: 0.6703 - acc: 0.7764 - val_loss: 0.6740 - val_acc: 0.7799\n",
      "Epoch 91/120\n",
      "12758/12758 [==============================] - 1s 43us/step - loss: 0.6682 - acc: 0.7772 - val_loss: 0.6724 - val_acc: 0.7796\n",
      "Epoch 92/120\n",
      "12758/12758 [==============================] - 1s 40us/step - loss: 0.6661 - acc: 0.7776 - val_loss: 0.6712 - val_acc: 0.7796\n",
      "Epoch 93/120\n",
      "12758/12758 [==============================] - 1s 41us/step - loss: 0.6640 - acc: 0.7783 - val_loss: 0.6700 - val_acc: 0.7799\n",
      "Epoch 94/120\n",
      "12758/12758 [==============================] - 1s 43us/step - loss: 0.6620 - acc: 0.7785 - val_loss: 0.6690 - val_acc: 0.7803\n",
      "Epoch 95/120\n",
      "12758/12758 [==============================] - 1s 46us/step - loss: 0.6599 - acc: 0.7789 - val_loss: 0.6676 - val_acc: 0.7806\n",
      "Epoch 96/120\n",
      "12758/12758 [==============================] - 1s 44us/step - loss: 0.6580 - acc: 0.7790 - val_loss: 0.6664 - val_acc: 0.7809\n",
      "Epoch 97/120\n",
      "12758/12758 [==============================] - 1s 48us/step - loss: 0.6559 - acc: 0.7796 - val_loss: 0.6653 - val_acc: 0.7837\n",
      "Epoch 98/120\n",
      "12758/12758 [==============================] - 1s 43us/step - loss: 0.6540 - acc: 0.7808 - val_loss: 0.6642 - val_acc: 0.7837\n",
      "Epoch 99/120\n",
      "12758/12758 [==============================] - 1s 57us/step - loss: 0.6519 - acc: 0.7808 - val_loss: 0.6631 - val_acc: 0.7837\n",
      "Epoch 100/120\n",
      "12758/12758 [==============================] - 1s 47us/step - loss: 0.6500 - acc: 0.7813 - val_loss: 0.6621 - val_acc: 0.7846\n",
      "Epoch 101/120\n",
      "12758/12758 [==============================] - 1s 44us/step - loss: 0.6479 - acc: 0.7815 - val_loss: 0.6615 - val_acc: 0.7834\n",
      "Epoch 102/120\n",
      "12758/12758 [==============================] - 1s 45us/step - loss: 0.6461 - acc: 0.7817 - val_loss: 0.6599 - val_acc: 0.7843\n",
      "Epoch 103/120\n",
      "12758/12758 [==============================] - 1s 44us/step - loss: 0.6442 - acc: 0.7827 - val_loss: 0.6588 - val_acc: 0.7850\n",
      "Epoch 104/120\n",
      "12758/12758 [==============================] - 1s 42us/step - loss: 0.6422 - acc: 0.7854 - val_loss: 0.6577 - val_acc: 0.7856\n",
      "Epoch 105/120\n",
      "12758/12758 [==============================] - 1s 42us/step - loss: 0.6403 - acc: 0.7857 - val_loss: 0.6568 - val_acc: 0.7859\n",
      "Epoch 106/120\n",
      "12758/12758 [==============================] - 1s 43us/step - loss: 0.6382 - acc: 0.7870 - val_loss: 0.6567 - val_acc: 0.7875\n",
      "Epoch 107/120\n",
      "12758/12758 [==============================] - 1s 44us/step - loss: 0.6364 - acc: 0.7879 - val_loss: 0.6549 - val_acc: 0.7865\n",
      "Epoch 108/120\n",
      "12758/12758 [==============================] - 1s 42us/step - loss: 0.6347 - acc: 0.7881 - val_loss: 0.6540 - val_acc: 0.7871\n",
      "Epoch 109/120\n",
      "12758/12758 [==============================] - 1s 55us/step - loss: 0.6328 - acc: 0.7894 - val_loss: 0.6530 - val_acc: 0.7862\n",
      "Epoch 110/120\n",
      "12758/12758 [==============================] - 1s 50us/step - loss: 0.6309 - acc: 0.7897 - val_loss: 0.6521 - val_acc: 0.7856\n",
      "Epoch 111/120\n",
      "12758/12758 [==============================] - 1s 46us/step - loss: 0.6289 - acc: 0.7902 - val_loss: 0.6516 - val_acc: 0.7871\n",
      "Epoch 112/120\n",
      "12758/12758 [==============================] - 1s 54us/step - loss: 0.6272 - acc: 0.7910 - val_loss: 0.6503 - val_acc: 0.7865\n",
      "Epoch 113/120\n",
      "12758/12758 [==============================] - 1s 49us/step - loss: 0.6253 - acc: 0.7913 - val_loss: 0.6494 - val_acc: 0.7865\n",
      "Epoch 114/120\n",
      "12758/12758 [==============================] - 1s 41us/step - loss: 0.6235 - acc: 0.7924 - val_loss: 0.6485 - val_acc: 0.7865\n",
      "Epoch 115/120\n",
      "12758/12758 [==============================] - 1s 44us/step - loss: 0.6218 - acc: 0.7923 - val_loss: 0.6476 - val_acc: 0.7875\n",
      "Epoch 116/120\n",
      "12758/12758 [==============================] - 1s 43us/step - loss: 0.6200 - acc: 0.7936 - val_loss: 0.6468 - val_acc: 0.7881\n",
      "Epoch 117/120\n"
     ]
    },
    {
     "name": "stdout",
     "output_type": "stream",
     "text": [
      "12758/12758 [==============================] - 1s 42us/step - loss: 0.6182 - acc: 0.7942 - val_loss: 0.6459 - val_acc: 0.7878\n",
      "Epoch 118/120\n",
      "12758/12758 [==============================] - 1s 53us/step - loss: 0.6164 - acc: 0.7941 - val_loss: 0.6452 - val_acc: 0.7890\n",
      "Epoch 119/120\n",
      "12758/12758 [==============================] - 1s 49us/step - loss: 0.6146 - acc: 0.7954 - val_loss: 0.6446 - val_acc: 0.7893\n",
      "Epoch 120/120\n",
      "12758/12758 [==============================] - 1s 49us/step - loss: 0.6129 - acc: 0.7962 - val_loss: 0.6435 - val_acc: 0.7887\n"
     ]
    }
   ],
   "source": [
    "history = model.fit(neural_X_train, #train_test_X\n",
    "                    neural_y_train, #train_test_y\n",
    "                    epochs=120,\n",
    "                    batch_size=256,\n",
    "                   validation_data=(neural_X_val, neural_y_val))"
   ]
  },
  {
   "cell_type": "code",
   "execution_count": 14,
   "metadata": {},
   "outputs": [
    {
     "data": {
      "text/plain": [
       "dict_keys(['val_loss', 'val_acc', 'loss', 'acc'])"
      ]
     },
     "execution_count": 14,
     "metadata": {},
     "output_type": "execute_result"
    }
   ],
   "source": [
    "history_dict = history.history\n",
    "history_dict.keys()"
   ]
  },
  {
   "cell_type": "code",
   "execution_count": 15,
   "metadata": {},
   "outputs": [
    {
     "data": {
      "image/png": "[encoded data removed]",
      "text/plain": [
       "<Figure size 432x288 with 1 Axes>"
      ]
     },
     "metadata": {
      "needs_background": "light"
     },
     "output_type": "display_data"
    }
   ],
   "source": [
    "history_dict = history.history\n",
    "loss_values = history_dict['loss']\n",
    "\n",
    "epochs = range(1, len(loss_values) + 1)\n",
    "plt.plot(epochs, loss_values, 'g', label='Training loss')\n",
    "\n",
    "plt.title('Training loss')\n",
    "plt.xlabel('Epochs')\n",
    "plt.ylabel('Loss')\n",
    "plt.legend()\n",
    "plt.show()"
   ]
  },
  {
   "cell_type": "code",
   "execution_count": 16,
   "metadata": {},
   "outputs": [
    {
     "data": {
      "image/png": "[encoded data removed]",
      "text/plain": [
       "<Figure size 432x288 with 1 Axes>"
      ]
     },
     "metadata": {
      "needs_background": "light"
     },
     "output_type": "display_data"
    }
   ],
   "source": [
    "acc_values = history_dict['acc'] \n",
    "\n",
    "plt.plot(epochs, acc_values, 'r', label='Training acc')\n",
    "plt.title('Training accuracy')\n",
    "plt.xlabel('Epochs')\n",
    "plt.ylabel('Loss')\n",
    "plt.legend()\n",
    "plt.show()"
   ]
  },
  {
   "cell_type": "code",
   "execution_count": 17,
   "metadata": {},
   "outputs": [],
   "source": [
    "y_hat_test = model.predict(neural_X_test)"
   ]
  },
  {
   "cell_type": "code",
   "execution_count": 18,
   "metadata": {},
   "outputs": [
    {
     "name": "stdout",
     "output_type": "stream",
     "text": [
      "12758/12758 [==============================] - 0s 32us/step\n"
     ]
    },
    {
     "data": {
      "text/plain": [
       "[0.6110402048895549, 0.7965982129234078]"
      ]
     },
     "execution_count": 18,
     "metadata": {},
     "output_type": "execute_result"
    }
   ],
   "source": [
    "results_train = model.evaluate(neural_X_train, neural_y_train)\n",
    "results_train"
   ]
  },
  {
   "cell_type": "code",
   "execution_count": 19,
   "metadata": {},
   "outputs": [
    {
     "name": "stdout",
     "output_type": "stream",
     "text": [
      "3988/3988 [==============================] - 0s 34us/step\n"
     ]
    },
    {
     "data": {
      "text/plain": [
       "[0.6394471156680835, 0.7978936810431294]"
      ]
     },
     "execution_count": 19,
     "metadata": {},
     "output_type": "execute_result"
    }
   ],
   "source": [
    "results_test = model.evaluate(neural_X_test, neural_y_test)\n",
    "results_test"
   ]
  },
  {
   "cell_type": "code",
   "execution_count": null,
   "metadata": {},
   "outputs": [],
   "source": []
  },
  {
   "cell_type": "code",
   "execution_count": 20,
   "metadata": {},
   "outputs": [],
   "source": [
    "model.save('all_data_network.h5')"
   ]
  }
 ],
 "metadata": {
  "kernelspec": {
   "display_name": "Python 3",
   "language": "python",
   "name": "python3"
  },
  "language_info": {
   "codemirror_mode": {
    "name": "ipython",
    "version": 3
   },
   "file_extension": ".py",
   "mimetype": "text/x-python",
   "name": "python",
   "nbconvert_exporter": "python",
   "pygments_lexer": "ipython3",
   "version": "3.6.6"
  }
 },
 "nbformat": 4,
 "nbformat_minor": 2
}
